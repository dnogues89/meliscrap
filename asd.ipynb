{
 "cells": [
  {
   "cell_type": "code",
   "execution_count": 2,
   "metadata": {},
   "outputs": [],
   "source": [
    "import sqlite3\n",
    "from dbconection import Repository\n",
    "from models import Decoder\n",
    "import pandas as pd\n",
    "\n",
    "db = Repository()"
   ]
  },
  {
   "cell_type": "code",
   "execution_count": null,
   "metadata": {},
   "outputs": [],
   "source": [
    "all_data = db.read_all()\n",
    "all_data[6][4]"
   ]
  },
  {
   "cell_type": "code",
   "execution_count": null,
   "metadata": {},
   "outputs": [],
   "source": [
    "decode = Decoder(all_data[6][2],all_data[6][5])\n",
    "print(decode.caja)"
   ]
  },
  {
   "cell_type": "code",
   "execution_count": null,
   "metadata": {},
   "outputs": [],
   "source": [
    "for i in range(len(all_data)):\n",
    "    # data = (all_data[i][2],all_data[i][5])\n",
    "    decode = Decoder(all_data[i][2],all_data[i][5])\n",
    "    data = (decode.final,all_data[i][1])\n",
    "    db.update_desc_crm(data)\n",
    "    "
   ]
  },
  {
   "cell_type": "code",
   "execution_count": null,
   "metadata": {},
   "outputs": [],
   "source": [
    "db.cur.execute(\"\"\"SELECT CRM FROM sin_orden;\"\"\")\n",
    "data = db.cur.fetchall()\n",
    "for i in data:\n",
    "    data = (i,int(input(f'{i} =')))\n",
    "    db.insert_model_desc(data)"
   ]
  },
  {
   "cell_type": "code",
   "execution_count": null,
   "metadata": {},
   "outputs": [],
   "source": [
    "db.cur.execute(\"\"\"SELECT * FROM sin_concesionario;\"\"\")\n",
    "data = db.cur.fetchall()\n",
    "for i in data:\n",
    "    data = (i[0],input(f'{i[0]} {i[2]} ='))\n",
    "    db.insert_dealer(data)"
   ]
  },
  {
   "cell_type": "code",
   "execution_count": 10,
   "metadata": {},
   "outputs": [],
   "source": [
    "db.cur.execute(\"\"\"SELECT * FROM para_power_bi;\"\"\")\n",
    "data = db.cur.fetchall()\n",
    "\n",
    "df = pd.DataFrame(data=data, columns=['url','Precio','Actualizacion','Orden','Concesionario VW'])\n",
    "\n",
    "df.to_excel('/Users/dnogues/Library/CloudStorage/OneDrive-ESPASASA/Meli Precios/Meli2.xlsx')"
   ]
  }
 ],
 "metadata": {
  "kernelspec": {
   "display_name": "Python 3",
   "language": "python",
   "name": "python3"
  },
  "language_info": {
   "codemirror_mode": {
    "name": "ipython",
    "version": 3
   },
   "file_extension": ".py",
   "mimetype": "text/x-python",
   "name": "python",
   "nbconvert_exporter": "python",
   "pygments_lexer": "ipython3",
   "version": "3.10.4 (v3.10.4:9d38120e33, Mar 23 2022, 17:29:05) [Clang 13.0.0 (clang-1300.0.29.30)]"
  },
  "orig_nbformat": 4,
  "vscode": {
   "interpreter": {
    "hash": "aee8b7b246df8f9039afb4144a1f6fd8d2ca17a180786b69acc140d282b71a49"
   }
  }
 },
 "nbformat": 4,
 "nbformat_minor": 2
}
