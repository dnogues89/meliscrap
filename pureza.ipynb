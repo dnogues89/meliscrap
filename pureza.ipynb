{
 "cells": [
  {
   "cell_type": "code",
   "execution_count": null,
   "metadata": {},
   "outputs": [],
   "source": [
    "from dbconection import Repository\n",
    "import pandas as pd\n",
    "\n",
    "vieja_data = pd.read_csv('para power bi.csv')\n",
    "\n",
    "vieja_data.head()"
   ]
  },
  {
   "cell_type": "code",
   "execution_count": 2,
   "metadata": {},
   "outputs": [
    {
     "ename": "NameError",
     "evalue": "name 'Repository' is not defined",
     "output_type": "error",
     "traceback": [
      "\u001b[0;31m---------------------------------------------------------------------------\u001b[0m",
      "\u001b[0;31mNameError\u001b[0m                                 Traceback (most recent call last)",
      "\u001b[1;32m/Users/dnogues/Developer/Meli/pureza.ipynb Celda 2\u001b[0m in \u001b[0;36m<cell line: 1>\u001b[0;34m()\u001b[0m\n\u001b[0;32m----> <a href='vscode-notebook-cell:/Users/dnogues/Developer/Meli/pureza.ipynb#W1sZmlsZQ%3D%3D?line=0'>1</a>\u001b[0m db \u001b[39m=\u001b[39m Repository()\n\u001b[1;32m      <a href='vscode-notebook-cell:/Users/dnogues/Developer/Meli/pureza.ipynb#W1sZmlsZQ%3D%3D?line=1'>2</a>\u001b[0m \u001b[39mfor\u001b[39;00m i \u001b[39min\u001b[39;00m vieja_data\u001b[39m.\u001b[39mindex:\n\u001b[1;32m      <a href='vscode-notebook-cell:/Users/dnogues/Developer/Meli/pureza.ipynb#W1sZmlsZQ%3D%3D?line=2'>3</a>\u001b[0m     data \u001b[39m=\u001b[39m (vieja_data[\u001b[39m'\u001b[39m\u001b[39mActualizacion\u001b[39m\u001b[39m'\u001b[39m][i],\u001b[39mint\u001b[39m(vieja_data[\u001b[39m'\u001b[39m\u001b[39mid\u001b[39m\u001b[39m'\u001b[39m][i]),\u001b[39m\"\u001b[39m\u001b[39m\"\u001b[39m,\u001b[39mint\u001b[39m(vieja_data[\u001b[39m'\u001b[39m\u001b[39mprecio\u001b[39m\u001b[39m'\u001b[39m][i]),\u001b[39m\"\u001b[39m\u001b[39m\"\u001b[39m,vieja_data[\u001b[39m'\u001b[39m\u001b[39murl\u001b[39m\u001b[39m'\u001b[39m][i],vieja_data[\u001b[39m'\u001b[39m\u001b[39mConcesionarioVW\u001b[39m\u001b[39m'\u001b[39m][i])\n",
      "\u001b[0;31mNameError\u001b[0m: name 'Repository' is not defined"
     ]
    }
   ],
   "source": [
    "db = Repository()\n",
    "for i in vieja_data.index:\n",
    "    data = (vieja_data['Actualizacion'][i],int(vieja_data['id'][i]),\"\",int(vieja_data['precio'][i]),\"\",vieja_data['url'][i],vieja_data['ConcesionarioVW'][i])\n",
    "    db.insert_item(data)\n",
    "data\n",
    "    "
   ]
  },
  {
   "cell_type": "code",
   "execution_count": null,
   "metadata": {},
   "outputs": [],
   "source": [
    "orden = pd.read_csv('orden.csv')\n",
    "crm = orden.loc[orden['Orden'] == int(vieja_data['Orden'][0])]\n",
    "crm['crm'][crm.index[0]]"
   ]
  },
  {
   "cell_type": "code",
   "execution_count": null,
   "metadata": {},
   "outputs": [],
   "source": [
    "for i in vieja_data.index:\n",
    "    crm = orden.loc[orden['Orden'] == int(vieja_data['Orden'][i])]\n",
    "    crm_final = crm['crm'][crm.index[0]]\n",
    "    data =(crm_final.replace('  ',\" \"),int(vieja_data['id'][i]))\n",
    "    db.cur.execute(\"\"\"UPDATE pubs SET crm = ? WHERE id = ?\"\"\",data)\n",
    "    db.con.commit()\n",
    "data"
   ]
  },
  {
   "cell_type": "code",
   "execution_count": 14,
   "metadata": {},
   "outputs": [
    {
     "data": {
      "text/plain": [
       "('2023/01/23',\n",
       " 'https://auto.mercadolibre.com.ar/MLA-1152499515-volkswagen-amarok-20-cd-tdi-140cv-4x4-trendline-_JM#position=42&search_layout=grid&type=item&tracking_id=da331bc9-feca-4925-8bea-af0c02f25ef4')"
      ]
     },
     "execution_count": 14,
     "metadata": {},
     "output_type": "execute_result"
    }
   ],
   "source": [
    "from dbconection import Repository\n",
    "db=Repository()\n",
    "\n",
    "rows = db.read_all()\n",
    "for i in rows:\n",
    "    date = i[0].split('/')\n",
    "    date = f'2023/{date[1]}/{date[2]}'\n",
    "    data = (date,i[5])\n",
    "    db.cur.execute(\"\"\"UPDATE pubs SET date = ? WHERE url = ?\"\"\",data)\n",
    "    db.con.commit()\n",
    "\n",
    "\n"
   ]
  },
  {
   "cell_type": "code",
   "execution_count": null,
   "metadata": {},
   "outputs": [],
   "source": []
  },
  {
   "cell_type": "code",
   "execution_count": null,
   "metadata": {},
   "outputs": [],
   "source": []
  }
 ],
 "metadata": {
  "kernelspec": {
   "display_name": "Python 3",
   "language": "python",
   "name": "python3"
  },
  "language_info": {
   "codemirror_mode": {
    "name": "ipython",
    "version": 3
   },
   "file_extension": ".py",
   "mimetype": "text/x-python",
   "name": "python",
   "nbconvert_exporter": "python",
   "pygments_lexer": "ipython3",
   "version": "3.10.4"
  },
  "orig_nbformat": 4,
  "vscode": {
   "interpreter": {
    "hash": "aee8b7b246df8f9039afb4144a1f6fd8d2ca17a180786b69acc140d282b71a49"
   }
  }
 },
 "nbformat": 4,
 "nbformat_minor": 2
}
